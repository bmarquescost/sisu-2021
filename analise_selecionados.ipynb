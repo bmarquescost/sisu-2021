{
 "metadata": {
  "language_info": {
   "codemirror_mode": {
    "name": "ipython",
    "version": 3
   },
   "file_extension": ".py",
   "mimetype": "text/x-python",
   "name": "python",
   "nbconvert_exporter": "python",
   "pygments_lexer": "ipython3",
   "version": "3.8.5-final"
  },
  "orig_nbformat": 2,
  "kernelspec": {
   "name": "python385jvsc74a57bd031f2aee4e71d21fbe5cf8b01ff0e069b9275f58929596ceb00d14d90e3e16cd6",
   "display_name": "Python 3.8.5 64-bit"
  },
  "metadata": {
   "interpreter": {
    "hash": "31f2aee4e71d21fbe5cf8b01ff0e069b9275f58929596ceb00d14d90e3e16cd6"
   }
  }
 },
 "nbformat": 4,
 "nbformat_minor": 2,
 "cells": [
  {
   "source": [
    "# Analise dos resultados do SISU\n",
    "Vamos analisar aqui as notas dos estudantes selecionados pelo SISU no ano de 2021"
   ],
   "cell_type": "markdown",
   "metadata": {}
  },
  {
   "cell_type": "code",
   "execution_count": 48,
   "metadata": {},
   "outputs": [],
   "source": [
    "import pandas as pd\n",
    "import numpy as np\n",
    "import matplotlib.pyplot as plt"
   ]
  },
  {
   "cell_type": "code",
   "execution_count": 49,
   "metadata": {},
   "outputs": [],
   "source": [
    "df_selecionados = pd.read_csv(\"Data/alunos_selecionados.csv\", sep=';')\n",
    "df_cursos = pd.read_csv(\"lista_cursos.csv\", sep=';')"
   ]
  },
  {
   "cell_type": "code",
   "execution_count": 50,
   "metadata": {},
   "outputs": [
    {
     "output_type": "execute_result",
     "data": {
      "text/plain": [
       "                                nome codigo_inscricao_enem  codigo_oferta  \\\n",
       "0    CARLOS AUGUSTO SANTOS FERNANDES         20****4646741         162887   \n",
       "1  DEBORA LOUISE DE SOUZA FELISBERTO         20****4665356         162887   \n",
       "2  MATHEUS CANDIDO DE OLIVEIRA SILVA         20****7040864         162887   \n",
       "3        LUIS ANTONIO CORSO DA COSTA         20****1199474         162887   \n",
       "4             BRENDA DANTAS DA COSTA         20****2513744         162887   \n",
       "\n",
       "   bonus  classificacao    nota  codigo_modalidade          modalidade  \n",
       "0    0.0              1  655.17                  0  Ampla concorrência  \n",
       "1    0.0              2  641.81                  0  Ampla concorrência  \n",
       "2    0.0              3  639.64                  0  Ampla concorrência  \n",
       "3    0.0              4  639.41                  0  Ampla concorrência  \n",
       "4    0.0              5  636.21                  0  Ampla concorrência  "
      ],
      "text/html": "<div>\n<style scoped>\n    .dataframe tbody tr th:only-of-type {\n        vertical-align: middle;\n    }\n\n    .dataframe tbody tr th {\n        vertical-align: top;\n    }\n\n    .dataframe thead th {\n        text-align: right;\n    }\n</style>\n<table border=\"1\" class=\"dataframe\">\n  <thead>\n    <tr style=\"text-align: right;\">\n      <th></th>\n      <th>nome</th>\n      <th>codigo_inscricao_enem</th>\n      <th>codigo_oferta</th>\n      <th>bonus</th>\n      <th>classificacao</th>\n      <th>nota</th>\n      <th>codigo_modalidade</th>\n      <th>modalidade</th>\n    </tr>\n  </thead>\n  <tbody>\n    <tr>\n      <th>0</th>\n      <td>CARLOS AUGUSTO SANTOS FERNANDES</td>\n      <td>20****4646741</td>\n      <td>162887</td>\n      <td>0.0</td>\n      <td>1</td>\n      <td>655.17</td>\n      <td>0</td>\n      <td>Ampla concorrência</td>\n    </tr>\n    <tr>\n      <th>1</th>\n      <td>DEBORA LOUISE DE SOUZA FELISBERTO</td>\n      <td>20****4665356</td>\n      <td>162887</td>\n      <td>0.0</td>\n      <td>2</td>\n      <td>641.81</td>\n      <td>0</td>\n      <td>Ampla concorrência</td>\n    </tr>\n    <tr>\n      <th>2</th>\n      <td>MATHEUS CANDIDO DE OLIVEIRA SILVA</td>\n      <td>20****7040864</td>\n      <td>162887</td>\n      <td>0.0</td>\n      <td>3</td>\n      <td>639.64</td>\n      <td>0</td>\n      <td>Ampla concorrência</td>\n    </tr>\n    <tr>\n      <th>3</th>\n      <td>LUIS ANTONIO CORSO DA COSTA</td>\n      <td>20****1199474</td>\n      <td>162887</td>\n      <td>0.0</td>\n      <td>4</td>\n      <td>639.41</td>\n      <td>0</td>\n      <td>Ampla concorrência</td>\n    </tr>\n    <tr>\n      <th>4</th>\n      <td>BRENDA DANTAS DA COSTA</td>\n      <td>20****2513744</td>\n      <td>162887</td>\n      <td>0.0</td>\n      <td>5</td>\n      <td>636.21</td>\n      <td>0</td>\n      <td>Ampla concorrência</td>\n    </tr>\n  </tbody>\n</table>\n</div>"
     },
     "metadata": {},
     "execution_count": 50
    }
   ],
   "source": [
    "df_selecionados.head()"
   ]
  },
  {
   "cell_type": "code",
   "execution_count": 51,
   "metadata": {},
   "outputs": [
    {
     "output_type": "execute_result",
     "data": {
      "text/plain": [
       "   codigo_oferta  codigo_curso        nome_curso    grau_curso turno_curso  \\\n",
       "0         162887       1513995  CIÊNCIAS SOCIAIS  Licenciatura     Noturno   \n",
       "1         162886       1513993         FILOSOFIA  Licenciatura     Noturno   \n",
       "2         162889       1513994         GEOGRAFIA  Licenciatura     Noturno   \n",
       "3         162888       1513990          HISTÓRIA  Licenciatura     Noturno   \n",
       "4         176142         18864     ADMINISTRAÇÃO   Bacharelado    Integral   \n",
       "\n",
       "   numero_vagas                  nome_campus   cidade_campus uf_campus  \\\n",
       "0            40           CAMPUS REALENGO II  Rio de Janeiro        RJ   \n",
       "1            40           CAMPUS REALENGO II  Rio de Janeiro        RJ   \n",
       "2            40           CAMPUS REALENGO II  Rio de Janeiro        RJ   \n",
       "3            40           CAMPUS REALENGO II  Rio de Janeiro        RJ   \n",
       "4            50  CEFET/RJ - UNIDADE MARACANÃ  Rio de Janeiro        RJ   \n",
       "\n",
       "                                            nome_ies  ...  \\\n",
       "0                                   COLÉGIO PEDRO II  ...   \n",
       "1                                   COLÉGIO PEDRO II  ...   \n",
       "2                                   COLÉGIO PEDRO II  ...   \n",
       "3                                   COLÉGIO PEDRO II  ...   \n",
       "4  CENTRO FEDERAL DE EDUCAÇÃO TECNOLÓGICA CELSO S...  ...   \n",
       "\n",
       "  peso_ciencias_natureza  min_ciencias_humanas  peso_ciencias_humanas  \\\n",
       "0                    1.0                  0.01                    3.0   \n",
       "1                    1.0                  0.01                    3.0   \n",
       "2                    1.0                  0.01                    3.0   \n",
       "3                    1.0                  0.01                    3.0   \n",
       "4                    2.0                444.70                    1.0   \n",
       "\n",
       "   min_linguagens  peso_linguagens  min_matematica  peso_matematica  \\\n",
       "0            0.01              2.0            0.01              1.0   \n",
       "1            0.01              2.0            0.01              1.0   \n",
       "2            0.01              2.0            0.01              1.0   \n",
       "3            0.01              2.0            0.01              1.0   \n",
       "4          453.80              1.0          432.40              4.0   \n",
       "\n",
       "   min_redacao  peso_redacao  media_minima  \n",
       "0         0.01           2.0          0.01  \n",
       "1         0.01           2.0          0.01  \n",
       "2         0.01           2.0          0.01  \n",
       "3         0.01           2.0          0.01  \n",
       "4       300.00           3.0        418.04  \n",
       "\n",
       "[5 rows x 22 columns]"
      ],
      "text/html": "<div>\n<style scoped>\n    .dataframe tbody tr th:only-of-type {\n        vertical-align: middle;\n    }\n\n    .dataframe tbody tr th {\n        vertical-align: top;\n    }\n\n    .dataframe thead th {\n        text-align: right;\n    }\n</style>\n<table border=\"1\" class=\"dataframe\">\n  <thead>\n    <tr style=\"text-align: right;\">\n      <th></th>\n      <th>codigo_oferta</th>\n      <th>codigo_curso</th>\n      <th>nome_curso</th>\n      <th>grau_curso</th>\n      <th>turno_curso</th>\n      <th>numero_vagas</th>\n      <th>nome_campus</th>\n      <th>cidade_campus</th>\n      <th>uf_campus</th>\n      <th>nome_ies</th>\n      <th>...</th>\n      <th>peso_ciencias_natureza</th>\n      <th>min_ciencias_humanas</th>\n      <th>peso_ciencias_humanas</th>\n      <th>min_linguagens</th>\n      <th>peso_linguagens</th>\n      <th>min_matematica</th>\n      <th>peso_matematica</th>\n      <th>min_redacao</th>\n      <th>peso_redacao</th>\n      <th>media_minima</th>\n    </tr>\n  </thead>\n  <tbody>\n    <tr>\n      <th>0</th>\n      <td>162887</td>\n      <td>1513995</td>\n      <td>CIÊNCIAS SOCIAIS</td>\n      <td>Licenciatura</td>\n      <td>Noturno</td>\n      <td>40</td>\n      <td>CAMPUS REALENGO II</td>\n      <td>Rio de Janeiro</td>\n      <td>RJ</td>\n      <td>COLÉGIO PEDRO II</td>\n      <td>...</td>\n      <td>1.0</td>\n      <td>0.01</td>\n      <td>3.0</td>\n      <td>0.01</td>\n      <td>2.0</td>\n      <td>0.01</td>\n      <td>1.0</td>\n      <td>0.01</td>\n      <td>2.0</td>\n      <td>0.01</td>\n    </tr>\n    <tr>\n      <th>1</th>\n      <td>162886</td>\n      <td>1513993</td>\n      <td>FILOSOFIA</td>\n      <td>Licenciatura</td>\n      <td>Noturno</td>\n      <td>40</td>\n      <td>CAMPUS REALENGO II</td>\n      <td>Rio de Janeiro</td>\n      <td>RJ</td>\n      <td>COLÉGIO PEDRO II</td>\n      <td>...</td>\n      <td>1.0</td>\n      <td>0.01</td>\n      <td>3.0</td>\n      <td>0.01</td>\n      <td>2.0</td>\n      <td>0.01</td>\n      <td>1.0</td>\n      <td>0.01</td>\n      <td>2.0</td>\n      <td>0.01</td>\n    </tr>\n    <tr>\n      <th>2</th>\n      <td>162889</td>\n      <td>1513994</td>\n      <td>GEOGRAFIA</td>\n      <td>Licenciatura</td>\n      <td>Noturno</td>\n      <td>40</td>\n      <td>CAMPUS REALENGO II</td>\n      <td>Rio de Janeiro</td>\n      <td>RJ</td>\n      <td>COLÉGIO PEDRO II</td>\n      <td>...</td>\n      <td>1.0</td>\n      <td>0.01</td>\n      <td>3.0</td>\n      <td>0.01</td>\n      <td>2.0</td>\n      <td>0.01</td>\n      <td>1.0</td>\n      <td>0.01</td>\n      <td>2.0</td>\n      <td>0.01</td>\n    </tr>\n    <tr>\n      <th>3</th>\n      <td>162888</td>\n      <td>1513990</td>\n      <td>HISTÓRIA</td>\n      <td>Licenciatura</td>\n      <td>Noturno</td>\n      <td>40</td>\n      <td>CAMPUS REALENGO II</td>\n      <td>Rio de Janeiro</td>\n      <td>RJ</td>\n      <td>COLÉGIO PEDRO II</td>\n      <td>...</td>\n      <td>1.0</td>\n      <td>0.01</td>\n      <td>3.0</td>\n      <td>0.01</td>\n      <td>2.0</td>\n      <td>0.01</td>\n      <td>1.0</td>\n      <td>0.01</td>\n      <td>2.0</td>\n      <td>0.01</td>\n    </tr>\n    <tr>\n      <th>4</th>\n      <td>176142</td>\n      <td>18864</td>\n      <td>ADMINISTRAÇÃO</td>\n      <td>Bacharelado</td>\n      <td>Integral</td>\n      <td>50</td>\n      <td>CEFET/RJ - UNIDADE MARACANÃ</td>\n      <td>Rio de Janeiro</td>\n      <td>RJ</td>\n      <td>CENTRO FEDERAL DE EDUCAÇÃO TECNOLÓGICA CELSO S...</td>\n      <td>...</td>\n      <td>2.0</td>\n      <td>444.70</td>\n      <td>1.0</td>\n      <td>453.80</td>\n      <td>1.0</td>\n      <td>432.40</td>\n      <td>4.0</td>\n      <td>300.00</td>\n      <td>3.0</td>\n      <td>418.04</td>\n    </tr>\n  </tbody>\n</table>\n<p>5 rows × 22 columns</p>\n</div>"
     },
     "metadata": {},
     "execution_count": 51
    }
   ],
   "source": [
    "df_cursos.head()"
   ]
  },
  {
   "source": [
    "## Nota máximas\n",
    "Para observar o desempenho dos alunos, vamos utilizar o seguinte score: a nota obtida pelo aluno sobre a nota máxima possível considerando a oferta que o aluno foi selecionado\n",
    "\n",
    "Observamos aqui que os alunos com notas acima de 900 muitas vezes possuem bonus altos, devido a regionalidade e especificidade do curso ofertado ou modalidade concursada\n"
   ],
   "cell_type": "markdown",
   "metadata": {}
  },
  {
   "cell_type": "code",
   "execution_count": 57,
   "metadata": {},
   "outputs": [
    {
     "output_type": "execute_result",
     "data": {
      "text/plain": [
       "                                      nome codigo_inscricao_enem  \\\n",
       "86532         VINICIUS BARROS COSTA MACEDO         20****6901999   \n",
       "87773           LAURA FROES NUNES DA SILVA         20****7046646   \n",
       "87774                NICOLE DA SILVA BRAGA         20****0665368   \n",
       "87775               GABRIE GERIA MELO LIMA         20****0082295   \n",
       "87776          LAYLA CAROLINA BARROS LEITE         20****2151662   \n",
       "...                                    ...                   ...   \n",
       "46597  ANTONIO VESPASIANO DOS SANTOS FILHO         20****5030681   \n",
       "95262                    RODRIGO DE MORAES         20****8076161   \n",
       "11590             WALLACE MONJARDIM BONINI         20****6881473   \n",
       "21159               ANDRE VIANA DOS SANTOS         20****0453944   \n",
       "46567              EVERTON SANTOS OLIVEIRA         20****7839393   \n",
       "\n",
       "       codigo_oferta  bonus  classificacao    nota  codigo_modalidade  \\\n",
       "86532         171559   20.0              1  995.40                  0   \n",
       "87773         171557   20.0              1  993.14                  0   \n",
       "87774         171557   20.0              2  990.17                  0   \n",
       "87775         171557   20.0              3  989.23                  0   \n",
       "87776         171557   20.0              4  986.09                  0   \n",
       "...              ...    ...            ...     ...                ...   \n",
       "46597         190134    0.0              1  244.88                 14   \n",
       "95262         166772    0.0              1  235.52                  9   \n",
       "11590         177808    0.0              1  234.18                 10   \n",
       "21159         176772    0.0              1  227.98                 14   \n",
       "46567         190089    0.0              1   52.00                 10   \n",
       "\n",
       "                                              modalidade  notas_percentuais  \n",
       "86532                                 Ampla concorrência           0.923000  \n",
       "87773                                 Ampla concorrência           0.920904  \n",
       "87774                                 Ampla concorrência           0.918150  \n",
       "87775                                 Ampla concorrência           0.917279  \n",
       "87776                                 Ampla concorrência           0.914367  \n",
       "...                                                  ...                ...  \n",
       "46597  Candidatos com deficiência autodeclarados pret...           0.272482  \n",
       "95262  Candidatos com deficiência que tenham renda fa...           0.262067  \n",
       "11590  Candidatos com deficiência autodeclarados pret...           0.260994  \n",
       "21159  Candidatos com deficiência autodeclarados pret...           0.253898  \n",
       "46567  Candidatos com deficiência autodeclarados pret...           0.057861  \n",
       "\n",
       "[198957 rows x 9 columns]"
      ],
      "text/html": "<div>\n<style scoped>\n    .dataframe tbody tr th:only-of-type {\n        vertical-align: middle;\n    }\n\n    .dataframe tbody tr th {\n        vertical-align: top;\n    }\n\n    .dataframe thead th {\n        text-align: right;\n    }\n</style>\n<table border=\"1\" class=\"dataframe\">\n  <thead>\n    <tr style=\"text-align: right;\">\n      <th></th>\n      <th>nome</th>\n      <th>codigo_inscricao_enem</th>\n      <th>codigo_oferta</th>\n      <th>bonus</th>\n      <th>classificacao</th>\n      <th>nota</th>\n      <th>codigo_modalidade</th>\n      <th>modalidade</th>\n      <th>notas_percentuais</th>\n    </tr>\n  </thead>\n  <tbody>\n    <tr>\n      <th>86532</th>\n      <td>VINICIUS BARROS COSTA MACEDO</td>\n      <td>20****6901999</td>\n      <td>171559</td>\n      <td>20.0</td>\n      <td>1</td>\n      <td>995.40</td>\n      <td>0</td>\n      <td>Ampla concorrência</td>\n      <td>0.923000</td>\n    </tr>\n    <tr>\n      <th>87773</th>\n      <td>LAURA FROES NUNES DA SILVA</td>\n      <td>20****7046646</td>\n      <td>171557</td>\n      <td>20.0</td>\n      <td>1</td>\n      <td>993.14</td>\n      <td>0</td>\n      <td>Ampla concorrência</td>\n      <td>0.920904</td>\n    </tr>\n    <tr>\n      <th>87774</th>\n      <td>NICOLE DA SILVA BRAGA</td>\n      <td>20****0665368</td>\n      <td>171557</td>\n      <td>20.0</td>\n      <td>2</td>\n      <td>990.17</td>\n      <td>0</td>\n      <td>Ampla concorrência</td>\n      <td>0.918150</td>\n    </tr>\n    <tr>\n      <th>87775</th>\n      <td>GABRIE GERIA MELO LIMA</td>\n      <td>20****0082295</td>\n      <td>171557</td>\n      <td>20.0</td>\n      <td>3</td>\n      <td>989.23</td>\n      <td>0</td>\n      <td>Ampla concorrência</td>\n      <td>0.917279</td>\n    </tr>\n    <tr>\n      <th>87776</th>\n      <td>LAYLA CAROLINA BARROS LEITE</td>\n      <td>20****2151662</td>\n      <td>171557</td>\n      <td>20.0</td>\n      <td>4</td>\n      <td>986.09</td>\n      <td>0</td>\n      <td>Ampla concorrência</td>\n      <td>0.914367</td>\n    </tr>\n    <tr>\n      <th>...</th>\n      <td>...</td>\n      <td>...</td>\n      <td>...</td>\n      <td>...</td>\n      <td>...</td>\n      <td>...</td>\n      <td>...</td>\n      <td>...</td>\n      <td>...</td>\n    </tr>\n    <tr>\n      <th>46597</th>\n      <td>ANTONIO VESPASIANO DOS SANTOS FILHO</td>\n      <td>20****5030681</td>\n      <td>190134</td>\n      <td>0.0</td>\n      <td>1</td>\n      <td>244.88</td>\n      <td>14</td>\n      <td>Candidatos com deficiência autodeclarados pret...</td>\n      <td>0.272482</td>\n    </tr>\n    <tr>\n      <th>95262</th>\n      <td>RODRIGO DE MORAES</td>\n      <td>20****8076161</td>\n      <td>166772</td>\n      <td>0.0</td>\n      <td>1</td>\n      <td>235.52</td>\n      <td>9</td>\n      <td>Candidatos com deficiência que tenham renda fa...</td>\n      <td>0.262067</td>\n    </tr>\n    <tr>\n      <th>11590</th>\n      <td>WALLACE MONJARDIM BONINI</td>\n      <td>20****6881473</td>\n      <td>177808</td>\n      <td>0.0</td>\n      <td>1</td>\n      <td>234.18</td>\n      <td>10</td>\n      <td>Candidatos com deficiência autodeclarados pret...</td>\n      <td>0.260994</td>\n    </tr>\n    <tr>\n      <th>21159</th>\n      <td>ANDRE VIANA DOS SANTOS</td>\n      <td>20****0453944</td>\n      <td>176772</td>\n      <td>0.0</td>\n      <td>1</td>\n      <td>227.98</td>\n      <td>14</td>\n      <td>Candidatos com deficiência autodeclarados pret...</td>\n      <td>0.253898</td>\n    </tr>\n    <tr>\n      <th>46567</th>\n      <td>EVERTON SANTOS OLIVEIRA</td>\n      <td>20****7839393</td>\n      <td>190089</td>\n      <td>0.0</td>\n      <td>1</td>\n      <td>52.00</td>\n      <td>10</td>\n      <td>Candidatos com deficiência autodeclarados pret...</td>\n      <td>0.057861</td>\n    </tr>\n  </tbody>\n</table>\n<p>198957 rows × 9 columns</p>\n</div>"
     },
     "metadata": {},
     "execution_count": 57
    }
   ],
   "source": [
    "df_selecionados.sort_values('nota', ascending=False)"
   ]
  },
  {
   "source": [
    "### Relação das notas máximas do Enem de 2021"
   ],
   "cell_type": "markdown",
   "metadata": {}
  },
  {
   "cell_type": "code",
   "execution_count": 52,
   "metadata": {},
   "outputs": [],
   "source": [
    "notas_maximas = {\n",
    "    'linguagens': 801.1,\n",
    "    'ciencias_humanas':862.6,\n",
    "    'ciencias_natureza': 854.8,\n",
    "    'matematica': 975,\n",
    "    'redacao': 1000\n",
    "}\n"
   ]
  },
  {
   "source": [
    "## Obtendo os pesos dos cursos de cada aluno"
   ],
   "cell_type": "markdown",
   "metadata": {}
  },
  {
   "source": [
    "Agora temos que recolher os pesos e calcular a nota máxima para cada aluno"
   ],
   "cell_type": "markdown",
   "metadata": {}
  },
  {
   "cell_type": "code",
   "execution_count": 54,
   "metadata": {},
   "outputs": [],
   "source": [
    "colunas_pesos = ['peso_linguagens','peso_ciencias_humanas','peso_ciencias_natureza','peso_matematica','peso_redacao']"
   ]
  },
  {
   "cell_type": "code",
   "execution_count": 55,
   "metadata": {},
   "outputs": [
    {
     "output_type": "stream",
     "name": "stdout",
     "text": [
      "CPU times: user 3min 53s, sys: 122 ms, total: 3min 53s\nWall time: 3min 52s\n"
     ]
    }
   ],
   "source": [
    "%%time\n",
    "\n",
    "notas_percentuais = []\n",
    "for codigo, index in zip(df_selecionados['codigo_oferta'], df_selecionados.index):\n",
    "    codigo_curso_idx = df_cursos.loc[df_cursos['codigo_oferta'] == codigo][colunas_pesos].index\n",
    "    \n",
    "    pesos = df_cursos.loc[codigo_curso_idx[0], colunas_pesos].to_list()\n",
    "    nota, bonus = df_selecionados.loc[index, 'nota'], 1 + (df_selecionados.loc[index, 'bonus']) / 100\n",
    "    \n",
    "    percentual_nota = df_selecionados.loc[index, 'nota'] / ((sum([n * p for n, p in zip(notas_maximas.values(), pesos)]) / sum(pesos)) * bonus)\n",
    "    \n",
    "    notas_percentuais.append(percentual_nota)\n",
    "    "
   ]
  },
  {
   "cell_type": "code",
   "execution_count": 60,
   "metadata": {},
   "outputs": [
    {
     "output_type": "error",
     "ename": "KeyError",
     "evalue": "'nota_percentual'",
     "traceback": [
      "\u001b[0;31m---------------------------------------------------------------------------\u001b[0m",
      "\u001b[0;31mKeyError\u001b[0m                                  Traceback (most recent call last)",
      "\u001b[0;32m<ipython-input-60-a78ea350943a>\u001b[0m in \u001b[0;36m<module>\u001b[0;34m\u001b[0m\n\u001b[0;32m----> 1\u001b[0;31m \u001b[0mdf_selecionados\u001b[0m\u001b[0;34m.\u001b[0m\u001b[0msort_values\u001b[0m\u001b[0;34m(\u001b[0m\u001b[0;34m'nota_percentual'\u001b[0m\u001b[0;34m)\u001b[0m\u001b[0;34m\u001b[0m\u001b[0;34m\u001b[0m\u001b[0m\n\u001b[0m",
      "\u001b[0;32m~/.local/lib/python3.8/site-packages/pandas/core/frame.py\u001b[0m in \u001b[0;36msort_values\u001b[0;34m(self, by, axis, ascending, inplace, kind, na_position, ignore_index, key)\u001b[0m\n\u001b[1;32m   5453\u001b[0m \u001b[0;34m\u001b[0m\u001b[0m\n\u001b[1;32m   5454\u001b[0m             \u001b[0mby\u001b[0m \u001b[0;34m=\u001b[0m \u001b[0mby\u001b[0m\u001b[0;34m[\u001b[0m\u001b[0;36m0\u001b[0m\u001b[0;34m]\u001b[0m\u001b[0;34m\u001b[0m\u001b[0;34m\u001b[0m\u001b[0m\n\u001b[0;32m-> 5455\u001b[0;31m             \u001b[0mk\u001b[0m \u001b[0;34m=\u001b[0m \u001b[0mself\u001b[0m\u001b[0;34m.\u001b[0m\u001b[0m_get_label_or_level_values\u001b[0m\u001b[0;34m(\u001b[0m\u001b[0mby\u001b[0m\u001b[0;34m,\u001b[0m \u001b[0maxis\u001b[0m\u001b[0;34m=\u001b[0m\u001b[0maxis\u001b[0m\u001b[0;34m)\u001b[0m\u001b[0;34m\u001b[0m\u001b[0;34m\u001b[0m\u001b[0m\n\u001b[0m\u001b[1;32m   5456\u001b[0m \u001b[0;34m\u001b[0m\u001b[0m\n\u001b[1;32m   5457\u001b[0m             \u001b[0;31m# need to rewrap column in Series to apply key function\u001b[0m\u001b[0;34m\u001b[0m\u001b[0;34m\u001b[0m\u001b[0;34m\u001b[0m\u001b[0m\n",
      "\u001b[0;32m~/.local/lib/python3.8/site-packages/pandas/core/generic.py\u001b[0m in \u001b[0;36m_get_label_or_level_values\u001b[0;34m(self, key, axis)\u001b[0m\n\u001b[1;32m   1682\u001b[0m             \u001b[0mvalues\u001b[0m \u001b[0;34m=\u001b[0m \u001b[0mself\u001b[0m\u001b[0;34m.\u001b[0m\u001b[0maxes\u001b[0m\u001b[0;34m[\u001b[0m\u001b[0maxis\u001b[0m\u001b[0;34m]\u001b[0m\u001b[0;34m.\u001b[0m\u001b[0mget_level_values\u001b[0m\u001b[0;34m(\u001b[0m\u001b[0mkey\u001b[0m\u001b[0;34m)\u001b[0m\u001b[0;34m.\u001b[0m\u001b[0m_values\u001b[0m\u001b[0;34m\u001b[0m\u001b[0;34m\u001b[0m\u001b[0m\n\u001b[1;32m   1683\u001b[0m         \u001b[0;32melse\u001b[0m\u001b[0;34m:\u001b[0m\u001b[0;34m\u001b[0m\u001b[0;34m\u001b[0m\u001b[0m\n\u001b[0;32m-> 1684\u001b[0;31m             \u001b[0;32mraise\u001b[0m \u001b[0mKeyError\u001b[0m\u001b[0;34m(\u001b[0m\u001b[0mkey\u001b[0m\u001b[0;34m)\u001b[0m\u001b[0;34m\u001b[0m\u001b[0;34m\u001b[0m\u001b[0m\n\u001b[0m\u001b[1;32m   1685\u001b[0m \u001b[0;34m\u001b[0m\u001b[0m\n\u001b[1;32m   1686\u001b[0m         \u001b[0;31m# Check for duplicates\u001b[0m\u001b[0;34m\u001b[0m\u001b[0;34m\u001b[0m\u001b[0;34m\u001b[0m\u001b[0m\n",
      "\u001b[0;31mKeyError\u001b[0m: 'nota_percentual'"
     ]
    }
   ],
   "source": []
  },
  {
   "cell_type": "code",
   "execution_count": 69,
   "metadata": {},
   "outputs": [
    {
     "output_type": "execute_result",
     "data": {
      "text/plain": [
       "                                                   nome codigo_inscricao_enem  \\\n",
       "194016                            FELIPE COUTO AMENDOLA         20****9386642   \n",
       "122001  JOAO GUILHERME REBUSSI MARCOMINI MACEDO CATELAN         20****0748560   \n",
       "132454                          MICHELLY MOREIRA CAMPOS         20****4959159   \n",
       "58800                        PEDRO BARBOSA DUARTE VIDAL         20****0807861   \n",
       "63367              JULIA MOTTA COELHO DE CERQUEIRA PAES         20****3229947   \n",
       "\n",
       "        codigo_oferta  bonus  classificacao    nota  codigo_modalidade  \\\n",
       "194016         182469    0.0              1  853.40                  0   \n",
       "122001         176215    0.0              1  852.86                  0   \n",
       "132454         187735    0.0              1  863.45                  0   \n",
       "58800          189245    0.0              1  851.50                  0   \n",
       "63367          152613    0.0              1  850.74                  0   \n",
       "\n",
       "                modalidade  notas_percentuais  \n",
       "194016  Ampla concorrência           0.950529  \n",
       "122001  Ampla concorrência           0.948993  \n",
       "132454  Ampla concorrência           0.948525  \n",
       "58800   Ampla concorrência           0.947480  \n",
       "63367   Ampla concorrência           0.946634  "
      ],
      "text/html": "<div>\n<style scoped>\n    .dataframe tbody tr th:only-of-type {\n        vertical-align: middle;\n    }\n\n    .dataframe tbody tr th {\n        vertical-align: top;\n    }\n\n    .dataframe thead th {\n        text-align: right;\n    }\n</style>\n<table border=\"1\" class=\"dataframe\">\n  <thead>\n    <tr style=\"text-align: right;\">\n      <th></th>\n      <th>nome</th>\n      <th>codigo_inscricao_enem</th>\n      <th>codigo_oferta</th>\n      <th>bonus</th>\n      <th>classificacao</th>\n      <th>nota</th>\n      <th>codigo_modalidade</th>\n      <th>modalidade</th>\n      <th>notas_percentuais</th>\n    </tr>\n  </thead>\n  <tbody>\n    <tr>\n      <th>194016</th>\n      <td>FELIPE COUTO AMENDOLA</td>\n      <td>20****9386642</td>\n      <td>182469</td>\n      <td>0.0</td>\n      <td>1</td>\n      <td>853.40</td>\n      <td>0</td>\n      <td>Ampla concorrência</td>\n      <td>0.950529</td>\n    </tr>\n    <tr>\n      <th>122001</th>\n      <td>JOAO GUILHERME REBUSSI MARCOMINI MACEDO CATELAN</td>\n      <td>20****0748560</td>\n      <td>176215</td>\n      <td>0.0</td>\n      <td>1</td>\n      <td>852.86</td>\n      <td>0</td>\n      <td>Ampla concorrência</td>\n      <td>0.948993</td>\n    </tr>\n    <tr>\n      <th>132454</th>\n      <td>MICHELLY MOREIRA CAMPOS</td>\n      <td>20****4959159</td>\n      <td>187735</td>\n      <td>0.0</td>\n      <td>1</td>\n      <td>863.45</td>\n      <td>0</td>\n      <td>Ampla concorrência</td>\n      <td>0.948525</td>\n    </tr>\n    <tr>\n      <th>58800</th>\n      <td>PEDRO BARBOSA DUARTE VIDAL</td>\n      <td>20****0807861</td>\n      <td>189245</td>\n      <td>0.0</td>\n      <td>1</td>\n      <td>851.50</td>\n      <td>0</td>\n      <td>Ampla concorrência</td>\n      <td>0.947480</td>\n    </tr>\n    <tr>\n      <th>63367</th>\n      <td>JULIA MOTTA COELHO DE CERQUEIRA PAES</td>\n      <td>20****3229947</td>\n      <td>152613</td>\n      <td>0.0</td>\n      <td>1</td>\n      <td>850.74</td>\n      <td>0</td>\n      <td>Ampla concorrência</td>\n      <td>0.946634</td>\n    </tr>\n  </tbody>\n</table>\n</div>"
     },
     "metadata": {},
     "execution_count": 69
    }
   ],
   "source": [
    "df_selecionados['notas_percentuais'] = notas_percentuais\n",
    "df_selecionados.sort_values('notas_percentuais', ascending=False).head()\n"
   ]
  }
 ]
}